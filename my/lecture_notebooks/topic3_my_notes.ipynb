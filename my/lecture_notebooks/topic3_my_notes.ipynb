{
 "cells": [
  {
   "cell_type": "code",
   "execution_count": 7,
   "id": "expected-circumstances",
   "metadata": {},
   "outputs": [],
   "source": [
    "import numpy as np\n",
    "import pandas as pd\n",
    "import math"
   ]
  },
  {
   "cell_type": "markdown",
   "id": "developed-participant",
   "metadata": {},
   "source": [
    "## Working through the orange/blue balls split by information gain"
   ]
  },
  {
   "cell_type": "markdown",
   "id": "meaning-assault",
   "metadata": {},
   "source": [
    "Initial configuration of 20 balls (0=orange, 1=blue)"
   ]
  },
  {
   "cell_type": "code",
   "execution_count": 2,
   "id": "nuclear-protection",
   "metadata": {},
   "outputs": [],
   "source": [
    "initial_balls = [0, 1, 1, 1, 1, 0, 0, 0, 0, 1, 1, 1, 1, 0, 0, 0, 0, 0, 0, 1] "
   ]
  },
  {
   "cell_type": "code",
   "execution_count": 51,
   "id": "moved-restaurant",
   "metadata": {},
   "outputs": [
    {
     "name": "stdout",
     "output_type": "stream",
     "text": [
      "Initial entropy: 0.993\n"
     ]
    }
   ],
   "source": [
    "N = len(initial_balls)\n",
    "def s(p):\n",
    "    if p == 0 or p == 1:\n",
    "        return 0\n",
    "    return -p * math.log2(p) - (1 - p) * math.log2(1 - p)\n",
    "\n",
    "S = s(sum(initial_balls) / initial_n)\n",
    "print(f\"Initial entropy: {S:.3}\")"
   ]
  },
  {
   "cell_type": "markdown",
   "id": "general-grant",
   "metadata": {},
   "source": [
    "Consider splitting with first $j$ balls in first partition"
   ]
  },
  {
   "cell_type": "code",
   "execution_count": 52,
   "id": "certain-deputy",
   "metadata": {},
   "outputs": [
    {
     "data": {
      "text/html": [
       "<div>\n",
       "<style scoped>\n",
       "    .dataframe tbody tr th:only-of-type {\n",
       "        vertical-align: middle;\n",
       "    }\n",
       "\n",
       "    .dataframe tbody tr th {\n",
       "        vertical-align: top;\n",
       "    }\n",
       "\n",
       "    .dataframe thead th {\n",
       "        text-align: right;\n",
       "    }\n",
       "</style>\n",
       "<table border=\"1\" class=\"dataframe\">\n",
       "  <thead>\n",
       "    <tr style=\"text-align: right;\">\n",
       "      <th></th>\n",
       "      <th>S1</th>\n",
       "      <th>S2</th>\n",
       "      <th>IG</th>\n",
       "    </tr>\n",
       "  </thead>\n",
       "  <tbody>\n",
       "    <tr>\n",
       "      <th>1</th>\n",
       "      <td>0.000000</td>\n",
       "      <td>0.981941</td>\n",
       "      <td>0.059931</td>\n",
       "    </tr>\n",
       "    <tr>\n",
       "      <th>2</th>\n",
       "      <td>0.000000</td>\n",
       "      <td>0.964079</td>\n",
       "      <td>0.125104</td>\n",
       "    </tr>\n",
       "    <tr>\n",
       "      <th>3</th>\n",
       "      <td>0.000000</td>\n",
       "      <td>0.936667</td>\n",
       "      <td>0.196607</td>\n",
       "    </tr>\n",
       "    <tr>\n",
       "      <th>4</th>\n",
       "      <td>0.000000</td>\n",
       "      <td>0.896038</td>\n",
       "      <td>0.275944</td>\n",
       "    </tr>\n",
       "    <tr>\n",
       "      <th>5</th>\n",
       "      <td>0.721928</td>\n",
       "      <td>0.918296</td>\n",
       "      <td>0.123571</td>\n",
       "    </tr>\n",
       "    <tr>\n",
       "      <th>6</th>\n",
       "      <td>0.918296</td>\n",
       "      <td>0.940286</td>\n",
       "      <td>0.059086</td>\n",
       "    </tr>\n",
       "    <tr>\n",
       "      <th>7</th>\n",
       "      <td>0.985228</td>\n",
       "      <td>0.961237</td>\n",
       "      <td>0.023141</td>\n",
       "    </tr>\n",
       "    <tr>\n",
       "      <th>8</th>\n",
       "      <td>1.000000</td>\n",
       "      <td>0.979869</td>\n",
       "      <td>0.004853</td>\n",
       "    </tr>\n",
       "    <tr>\n",
       "      <th>9</th>\n",
       "      <td>0.991076</td>\n",
       "      <td>0.945660</td>\n",
       "      <td>0.026677</td>\n",
       "    </tr>\n",
       "    <tr>\n",
       "      <th>10</th>\n",
       "      <td>0.970951</td>\n",
       "      <td>0.881291</td>\n",
       "      <td>0.066654</td>\n",
       "    </tr>\n",
       "    <tr>\n",
       "      <th>11</th>\n",
       "      <td>0.945660</td>\n",
       "      <td>0.764205</td>\n",
       "      <td>0.128769</td>\n",
       "    </tr>\n",
       "    <tr>\n",
       "      <th>12</th>\n",
       "      <td>0.918296</td>\n",
       "      <td>0.543564</td>\n",
       "      <td>0.224371</td>\n",
       "    </tr>\n",
       "    <tr>\n",
       "      <th>13</th>\n",
       "      <td>0.961237</td>\n",
       "      <td>0.591673</td>\n",
       "      <td>0.160885</td>\n",
       "    </tr>\n",
       "    <tr>\n",
       "      <th>14</th>\n",
       "      <td>0.985228</td>\n",
       "      <td>0.650022</td>\n",
       "      <td>0.108108</td>\n",
       "    </tr>\n",
       "    <tr>\n",
       "      <th>15</th>\n",
       "      <td>0.996792</td>\n",
       "      <td>0.721928</td>\n",
       "      <td>0.064699</td>\n",
       "    </tr>\n",
       "    <tr>\n",
       "      <th>16</th>\n",
       "      <td>1.000000</td>\n",
       "      <td>0.811278</td>\n",
       "      <td>0.030519</td>\n",
       "    </tr>\n",
       "    <tr>\n",
       "      <th>17</th>\n",
       "      <td>0.997503</td>\n",
       "      <td>0.918296</td>\n",
       "      <td>0.007153</td>\n",
       "    </tr>\n",
       "    <tr>\n",
       "      <th>18</th>\n",
       "      <td>0.991076</td>\n",
       "      <td>1.000000</td>\n",
       "      <td>0.000806</td>\n",
       "    </tr>\n",
       "    <tr>\n",
       "      <th>19</th>\n",
       "      <td>0.998001</td>\n",
       "      <td>0.000000</td>\n",
       "      <td>0.044674</td>\n",
       "    </tr>\n",
       "  </tbody>\n",
       "</table>\n",
       "</div>"
      ],
      "text/plain": [
       "          S1        S2        IG\n",
       "1   0.000000  0.981941  0.059931\n",
       "2   0.000000  0.964079  0.125104\n",
       "3   0.000000  0.936667  0.196607\n",
       "4   0.000000  0.896038  0.275944\n",
       "5   0.721928  0.918296  0.123571\n",
       "6   0.918296  0.940286  0.059086\n",
       "7   0.985228  0.961237  0.023141\n",
       "8   1.000000  0.979869  0.004853\n",
       "9   0.991076  0.945660  0.026677\n",
       "10  0.970951  0.881291  0.066654\n",
       "11  0.945660  0.764205  0.128769\n",
       "12  0.918296  0.543564  0.224371\n",
       "13  0.961237  0.591673  0.160885\n",
       "14  0.985228  0.650022  0.108108\n",
       "15  0.996792  0.721928  0.064699\n",
       "16  1.000000  0.811278  0.030519\n",
       "17  0.997503  0.918296  0.007153\n",
       "18  0.991076  1.000000  0.000806\n",
       "19  0.998001  0.000000  0.044674"
      ]
     },
     "execution_count": 52,
     "metadata": {},
     "output_type": "execute_result"
    }
   ],
   "source": [
    "def calc_split(j):\n",
    "    p1 = sum(initial_balls[:(j + 1)]) / j\n",
    "    S1 = s(p1)\n",
    "    p2 = sum(initial_balls[(j + 1):]) / (N - j)\n",
    "    S2 = s(p2)\n",
    "    IG = S - (j / N) * S1 - ((N - j) / N) * S2\n",
    "    return [S1, S2, IG]\n",
    "calc_split(1)\n",
    "j_range = range(1, N)\n",
    "df_split = pd.DataFrame(data = [calc_split(j) for j in j_range], index = j_range, columns = [\"S1\", \"S2\", \"IG\"])\n",
    "df_split"
   ]
  }
 ],
 "metadata": {
  "kernelspec": {
   "display_name": "Python 3",
   "language": "python",
   "name": "python3"
  },
  "language_info": {
   "codemirror_mode": {
    "name": "ipython",
    "version": 3
   },
   "file_extension": ".py",
   "mimetype": "text/x-python",
   "name": "python",
   "nbconvert_exporter": "python",
   "pygments_lexer": "ipython3",
   "version": "3.9.2"
  }
 },
 "nbformat": 4,
 "nbformat_minor": 5
}
